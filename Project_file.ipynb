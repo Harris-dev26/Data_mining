{
 "cells": [
  {
   "cell_type": "markdown",
   "metadata": {},
   "source": [
    "# Data mining Project"
   ]
  },
  {
   "cell_type": "code",
   "execution_count": null,
   "metadata": {},
   "outputs": [],
   "source": [
    "import pandas as pd\n",
    "import numpy as np\n",
    "import matplotlib.pyplot as plt\n",
    "import seaborn as sns"
   ]
  },
  {
   "metadata": {},
<<<<<<< Updated upstream
   "cell_type": "code",
   "outputs": [],
   "execution_count": null,
=======
   "cell_type": "markdown",
   "source": "Section 1"
  },
  {
   "metadata": {},
   "cell_type": "markdown",
   "source": "Section 2\n"
  },
  {
   "metadata": {},
   "cell_type": "markdown",
   "source": "Section 3\n"
  },
  {
   "metadata": {},
   "cell_type": "markdown",
>>>>>>> Stashed changes
   "source": ""
  }
 ],
 "metadata": {
  "language_info": {
   "name": "python"
  }
 },
 "nbformat": 4,
 "nbformat_minor": 2
}
