{
 "cells": [
  {
   "cell_type": "markdown",
   "metadata": {},
   "source": [
    "# Data mining Project"
   ]
  },
  {
   "cell_type": "code",
   "execution_count": 7,
   "metadata": {},
   "outputs": [],
   "source": [
    "import pandas as pd"
   ]
  },
  {
   "cell_type": "code",
   "execution_count": null,
   "metadata": {},
   "outputs": [
    {
     "name": "stdout",
     "output_type": "stream",
     "text": [
      "      ID  Gender  Age_Group  Residence  Education_Level  Source_of_Income  \\\n",
      "0      1       1          1          2                4                 1   \n",
      "1      2       1          2          4                3                 1   \n",
      "2      3       1          2          2                4                 1   \n",
      "3      4       2          4          4                3                 3   \n",
      "4      5       2          3          1                2                 1   \n",
      "..   ...     ...        ...        ...              ...               ...   \n",
      "295  296       1          2          4                3                 1   \n",
      "296  297       2          3          3                2                 1   \n",
      "297  298       1          3          2                2                 1   \n",
      "298  299       2          3          4                3                 1   \n",
      "299  300       1          2          3                4                 4   \n",
      "\n",
      "     Marital_Status  Smoked_Cigarettes  Year_Diagnosed  Surgical_Treatment  \\\n",
      "0                 1                  1            2021                   0   \n",
      "1                 2                  1            2020                   1   \n",
      "2                 2                  1            2020                   1   \n",
      "3                 2                  1            2021                   1   \n",
      "4                 2                  1            2019                   1   \n",
      "..              ...                ...             ...                 ...   \n",
      "295               1                  0            2021                   0   \n",
      "296               2                  0            2020                   0   \n",
      "297               3                  0            2020                   0   \n",
      "298               3                  1            2020                   0   \n",
      "299               4                  1            2019                   0   \n",
      "\n",
      "     ...  Daily_Life_Impact_family_life  Daily_Life_Impact_social_life  \\\n",
      "0    ...                              0                              0   \n",
      "1    ...                              0                              0   \n",
      "2    ...                              0                              0   \n",
      "3    ...                              0                              0   \n",
      "4    ...                              0                              0   \n",
      "..   ...                            ...                            ...   \n",
      "295  ...                              0                              1   \n",
      "296  ...                              0                              0   \n",
      "297  ...                              0                              0   \n",
      "298  ...                              0                              0   \n",
      "299  ...                              0                              0   \n",
      "\n",
      "     Daily_Life_Impact_no_effect  Energy_Level  Self_Care  \\\n",
      "0                              0             2          1   \n",
      "1                              0             2          1   \n",
      "2                              0             2          1   \n",
      "3                              0             4          2   \n",
      "4                              0             2          1   \n",
      "..                           ...           ...        ...   \n",
      "295                            0             2          1   \n",
      "296                            0             2          2   \n",
      "297                            1             1          1   \n",
      "298                            0             2          1   \n",
      "299                            0             2          2   \n",
      "\n",
      "     Daily_Activities_Difficulty  Work_Readiness  Support_Satisfaction  \\\n",
      "0                              1               2                     2   \n",
      "1                              2               2                     2   \n",
      "2                              1               2                     1   \n",
      "3                              3               3                     1   \n",
      "4                              1               3                     3   \n",
      "..                           ...             ...                   ...   \n",
      "295                            2               2                     1   \n",
      "296                            2               3                     1   \n",
      "297                            1               1                     3   \n",
      "298                            1               2                     1   \n",
      "299                            2               3                     1   \n",
      "\n",
      "     Coping_Strategy  Negative_Emotions  \n",
      "0                  3                  3  \n",
      "1                  3                  3  \n",
      "2                  3                  2  \n",
      "3                  3                  4  \n",
      "4                  3                  3  \n",
      "..               ...                ...  \n",
      "295                1                  1  \n",
      "296                3                  3  \n",
      "297                1                  1  \n",
      "298                1                  1  \n",
      "299                3                  3  \n",
      "\n",
      "[300 rows x 46 columns]\n"
     ]
    }
   ],
   "source": [
    "file_path = 'data.txt'\n",
    "\n",
    "df = pd.read_csv(file_path, delimiter='\\t', header=None)\n",
    "\n",
    "\n",
    "columns = [\n",
    "    \"ID\",\"Gender\", \"Age_Group\", \"Residence\", \"Education_Level\", \"Source_of_Income\",\n",
    "    \"Marital_Status\", \"Smoked_Cigarettes\", \"Year_Diagnosed\", \"Surgical_Treatment\",\n",
    "    \"Chemotherapy\", \"Radiotherapy\", \"Immunotherapy\", \"Molecular_targeted_Therapy\",\n",
    "    \"Hospitalization_Number\", \"Time_to_Treatment\", \"Medical_Treatment_Need\",\n",
    "    \"Emotional_Impact\", \"Travel_Impact\", \"Quality_of_Life\", \"Symptoms_exp_cough\",\n",
    "    \"Symptoms_exp_Hoarseness\",\"Symptoms_exp_Blood_cough\",\"Symptoms_exp_chestpain\",\n",
    "    \"Symptoms_exp_Shortness_of_breath\",\"Symptoms_exp_weakness\",\"Symptoms_exp_None\",\n",
    "    \"Symptom_Frequency\", \"Symptom_Household_Impact\", \"Sleep_Issues\", \"Support_From_Close\",\n",
    "    \"Dependency_Fear\", \"Health_Satisfaction\", \"Daily_Life_Impact_physical\",\"Daily_Life_Impact_Psychological\",\n",
    "    \"Daily_Life_Impact_proffesional\",\"Daily_Life_Impact_family_life\",\"Daily_Life_Impact_social_life\",\n",
    "    \"Daily_Life_Impact_no_effect\",\"Energy_Level\", \"Self_Care\", \"Daily_Activities_Difficulty\",\n",
    "    \"Work_Readiness\", \"Support_Satisfaction\", \"Coping_Strategy\", \"Negative_Emotions\"\n",
    "]\n",
    "\n",
    "df.columns = columns\n",
    "print(df)\n",
    "\n",
    "df.to_csv('processed_survey_data_columns.csv', index=False)"
   ]
  }
 ],
 "metadata": {
  "kernelspec": {
   "display_name": "Python 3",
   "language": "python",
   "name": "python3"
  },
  "language_info": {
   "codemirror_mode": {
    "name": "ipython",
    "version": 3
   },
   "file_extension": ".py",
   "mimetype": "text/x-python",
   "name": "python",
   "nbconvert_exporter": "python",
   "pygments_lexer": "ipython3",
   "version": "3.11.1"
  }
 },
 "nbformat": 4,
 "nbformat_minor": 2
}
